{
 "cells": [
  {
   "cell_type": "code",
   "execution_count": 5,
   "metadata": {},
   "outputs": [],
   "source": [
    "from sklearn.kernel_approximation import *\n",
    "\n",
    "class CycleKernel(BaseEstimator, TransformerMixin):\n",
    "\n",
    "    def __init__(self, sigma=-1, num_components=100):\n",
    "        self.sigma, self.num_components = sigma, num_components\n",
    "\n",
    "    def fit(self, X, y=None):\n",
    "        self.red = []\n",
    "        if self.sigma > 0:\n",
    "            self.approx = RBFSampler(gamma=self.sigma, n_components=self.num_components, random_state=10).fit(X[0][0])\n",
    "        card = []\n",
    "        for i in range(len(X)):\n",
    "            mat, count = [], 0\n",
    "            for cyc in range(len(X[i])):\n",
    "                    count += 1\n",
    "                    if self.sigma == -1:\n",
    "                        mat.append(  np.mean(X[i][cyc], axis=0)[np.newaxis,:]  )\n",
    "                    else:\n",
    "                        mat.append(  np.mean(self.approx.transform(X[i][cyc]), axis=0)[np.newaxis,:]  )\n",
    "            card.append(count)\n",
    "            self.red.append( np.concatenate(mat, axis=0) )\n",
    "        return self\n",
    "\n",
    "    def transform(self, X):\n",
    "        mat = np.zeros([len(X), len(self.red)])\n",
    "        if len(self.red) == len(X):\n",
    "            for i in range(len(X)):\n",
    "                for j in range(i, len(X)):\n",
    "                    mat[i,j] = np.mean(np.matmul(self.red[i], self.red[j].T))\n",
    "                    mat[j,i] = mat[i,j]\n",
    "        else:\n",
    "            red2 = []\n",
    "            for i in range(len(X)):\n",
    "                mat2 = []\n",
    "                for cyc in range(len(X[i])):\n",
    "                        if self.sigma == -1:\n",
    "                            mat2.append(  np.mean(X[i][cyc], axis=0)[np.newaxis,:]  )\n",
    "                        else:\n",
    "                            mat2.append(  np.mean(self.approx.transform(X[i][cyc]), axis=0)[np.newaxis,:]  )\n",
    "                red2.append( np.concatenate(mat2, axis=0) )\n",
    "            for i in range(len(X)):\n",
    "                for j in range(len(self.red)):\n",
    "                    mat[i,j] = np.mean(np.matmul(red2[i], self.red[j].T))\n",
    "        return mat"
   ]
  }
 ],
 "metadata": {
  "kernelspec": {
   "display_name": "Python 3",
   "language": "python",
   "name": "python3"
  },
  "language_info": {
   "codemirror_mode": {
    "name": "ipython",
    "version": 3
   },
   "file_extension": ".py",
   "mimetype": "text/x-python",
   "name": "python",
   "nbconvert_exporter": "python",
   "pygments_lexer": "ipython3",
   "version": "3.7.2"
  }
 },
 "nbformat": 4,
 "nbformat_minor": 2
}
