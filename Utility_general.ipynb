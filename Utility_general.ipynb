{
 "cells": [
  {
   "cell_type": "code",
   "execution_count": 2,
   "metadata": {},
   "outputs": [],
   "source": [
    "import numpy as np\n",
    "import scipy.ndimage\n",
    "\n",
    "class Utility_general(object):\n",
    "    \n",
    "    @staticmethod\n",
    "    def nz2_nearest_z(t):\n",
    "        return scipy.ndimage.morphology.distance_transform_edt(t)\n",
    "    \n",
    "    @staticmethod\n",
    "    def find_closest_N_points(p, point_list, N):\n",
    "        # note that: point_list is assumed opencv countour[X] strucure\n",
    "        # use point_list[12][0][0] and point_list[12][0][1] to access\n",
    "        point_num = len(point_list)\n",
    "        dist = [0.0] * point_num\n",
    "        for i in range(point_num):\n",
    "            dist[i] = (p[0] - point_list[i][0][0]) ** 2 + (p[1] - point_list[i][0][1]) ** 2          \n",
    "        increasing_sorted_index = np.argsort(dist)      \n",
    "        # =======================================\n",
    "#         sorted_dist = np.sort(dist, axis=0)\n",
    "#         print(sorted_dist)\n",
    "        # =======================================   \n",
    "        x_coord = []\n",
    "        y_coord = []\n",
    "        for i in range(N):\n",
    "            x_coord.append(point_list[increasing_sorted_index[i]][0][0])\n",
    "            y_coord.append(point_list[increasing_sorted_index[i]][0][1])\n",
    "        return x_coord, y_coord"
   ]
  }
 ],
 "metadata": {
  "kernelspec": {
   "display_name": "Python 3",
   "language": "python",
   "name": "python3"
  },
  "language_info": {
   "codemirror_mode": {
    "name": "ipython",
    "version": 3
   },
   "file_extension": ".py",
   "mimetype": "text/x-python",
   "name": "python",
   "nbconvert_exporter": "python",
   "pygments_lexer": "ipython3",
   "version": "3.7.2"
  }
 },
 "nbformat": 4,
 "nbformat_minor": 2
}
