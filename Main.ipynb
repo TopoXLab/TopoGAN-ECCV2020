{
 "cells": [
  {
   "cell_type": "code",
   "execution_count": null,
   "metadata": {
    "scrolled": false
   },
   "outputs": [],
   "source": [
    "%run Archpool.ipynb\n",
    "%run Argparser.ipynb\n",
    "%run GAN.ipynb\n",
    "\n",
    "settings    = return_settings()\n",
    "parser      = Argparser(settings)\n",
    "general     = return_general(0)\n",
    "G_arch      = return_arch(2)\n",
    "D_arch      = return_arch(3)\n",
    "data_params = return_data_settings(0)\n",
    "adv_params  = return_advanced_params()\n",
    "\n",
    "def compute_fid(paths, batch_size=50, dims=2048):\n",
    "    # reference: https://github.com/mseitzer/pytorch-fid\n",
    "    # dims choices: 64, 192, 768, 2048\n",
    "    %run fid/inception.ipynb\n",
    "    %run fid/fid_score.ipynb\n",
    "    \n",
    "    os.environ['CUDA_VISIBLE_DEVICES']='0'\n",
    "    fid_value = calculate_fid_given_paths(paths, batch_size, True, dims)\n",
    "    print('FID: ', fid_value)\n",
    "\n",
    "def run():\n",
    "    gan = GAN(general, adv_params, G_arch, D_arch)\n",
    "    gan.train(data_params)\n",
    "    \n",
    "if __name__=='__main__':\n",
    "    run()"
   ]
  },
  {
   "cell_type": "code",
   "execution_count": null,
   "metadata": {},
   "outputs": [],
   "source": []
  }
 ],
 "metadata": {
  "kernelspec": {
   "display_name": "Python 3",
   "language": "python",
   "name": "python3"
  },
  "language_info": {
   "codemirror_mode": {
    "name": "ipython",
    "version": 3
   },
   "file_extension": ".py",
   "mimetype": "text/x-python",
   "name": "python",
   "nbconvert_exporter": "python",
   "pygments_lexer": "ipython3",
   "version": "3.7.2"
  }
 },
 "nbformat": 4,
 "nbformat_minor": 2
}
