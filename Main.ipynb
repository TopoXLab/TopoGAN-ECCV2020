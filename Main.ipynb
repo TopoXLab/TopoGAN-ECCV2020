{
 "cells": [
  {
   "cell_type": "code",
   "execution_count": null,
   "metadata": {
    "scrolled": false
   },
   "outputs": [],
   "source": [
    "import sys\n",
    "# python library compile from cpp\n",
    "sys.path.insert(0, './persis_lib_cpp')\n",
    "from persis_homo_optimal import *\n",
    "\n",
    "%run Archpool.ipynb\n",
    "%run Argparser.ipynb\n",
    "%run GAN.ipynb\n",
    "\n",
    "settings    = return_settings()\n",
    "parser      = Argparser(settings)\n",
    "general     = return_general(0)\n",
    "G_arch      = return_arch(2)\n",
    "D_arch      = return_arch(3)\n",
    "data_params = return_data_settings(0)\n",
    "adv_params  = return_advanced_params()\n",
    "\n",
    "def compute_fid(paths, batch_size=50, dims=2048):\n",
    "    '''\n",
    "    reference: https://github.com/mseitzer/pytorch-fid\n",
    "    dims choices: 64, 192, 768, 2048\n",
    "    lower score means better quality\n",
    "    paths: [folderA, folderB]\n",
    "    '''\n",
    "    %run fid/inception.ipynb\n",
    "    %run fid/fid_score.ipynb\n",
    "    \n",
    "    os.environ['CUDA_VISIBLE_DEVICES']='0'\n",
    "    fid_value = calculate_fid_given_paths(paths, batch_size, True, dims)\n",
    "    print('FID: ', fid_value)\n",
    "    \n",
    "def precompute_pds(dir_in, dir_out):\n",
    "    adv_params = return_advanced_params()\n",
    "    et = Edges_(adv_params, False)\n",
    "    FileIO.compute_pd_save(dir_in, dir_out, \"png\", adv_params, 1, True)\n",
    "\n",
    "def run():\n",
    "    gan = GAN(general, adv_params, G_arch, D_arch)\n",
    "    gan.train(data_params, True)\n",
    "    #gan.sample_save_(\"20000_128_1_1_0.dat\", [20000, 128, 1, 1], \"D:/Data/isbi/2w/compare_SN0\", 127.5, 0)\n",
    "    #gan.save_noise_([20000, 128, 1, 1], \"20000_128_1_1_2.dat\")\n",
    "\n",
    "if __name__=='__main__':\n",
    "    run()\n",
    "    #precompute_pds('E:/Data/cremi', 'E:/Data/cremi/pds')\n",
    "    #compute_fid([\"D:/Data/facades/facade128\", \"D:/Data/facades/match0.0005\"])"
   ]
  },
  {
   "cell_type": "code",
   "execution_count": null,
   "metadata": {},
   "outputs": [],
   "source": []
  }
 ],
 "metadata": {
  "kernelspec": {
   "display_name": "Python 3",
   "language": "python",
   "name": "python3"
  },
  "language_info": {
   "codemirror_mode": {
    "name": "ipython",
    "version": 3
   },
   "file_extension": ".py",
   "mimetype": "text/x-python",
   "name": "python",
   "nbconvert_exporter": "python",
   "pygments_lexer": "ipython3",
   "version": "3.7.2"
  }
 },
 "nbformat": 4,
 "nbformat_minor": 2
}
