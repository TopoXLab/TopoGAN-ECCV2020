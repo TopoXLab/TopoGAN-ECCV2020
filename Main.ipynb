{
 "cells": [
  {
   "cell_type": "code",
   "execution_count": null,
   "metadata": {
    "scrolled": false
   },
   "outputs": [],
   "source": [
    "%run Archpool.ipynb\n",
    "%run Argparser.ipynb\n",
    "%run GAN.ipynb\n",
    "\n",
    "settings    = return_settings()\n",
    "parser      = Argparser(settings)\n",
    "general     = return_general(0)\n",
    "G_arch      = return_arch(2)\n",
    "D_arch      = return_arch(3)\n",
    "data_params = return_data_settings(0)\n",
    "adv_params  = return_advanced_params()\n",
    "\n",
    "def compute_fid(paths, batch_size=50, dims=2048):\n",
    "    # reference: https://github.com/mseitzer/pytorch-fid\n",
    "    # dims choices: 64, 192, 768, 2048\n",
    "    %run fid/inception.ipynb\n",
    "    %run fid/fid_score.ipynb\n",
    "    \n",
    "    os.environ['CUDA_VISIBLE_DEVICES']='0'\n",
    "    fid_value = calculate_fid_given_paths(paths, batch_size, True, dims)\n",
    "    print('FID: ', fid_value)\n",
    "\n",
    "def run():\n",
    "    gan = GAN(general, adv_params, G_arch, D_arch)\n",
    "    gan.train(data_params, True)\n",
    "    \n",
    "if __name__=='__main__':\n",
    "    run()"
   ]
  },
  {
   "cell_type": "code",
   "execution_count": null,
   "metadata": {
    "scrolled": false
   },
   "outputs": [],
   "source": [
    "%run Archpool.ipynb\n",
    "%run Data.ipynb\n",
    "%run Viewer.ipynb\n",
    "%run Topo_treatment.ipynb\n",
    "%run FileIO.ipynb\n",
    "\n",
    "adv_params = return_advanced_params()\n",
    "# add1 = \"D:/Data/cremi_patch64/cremi_00000.png\"\n",
    "# add2 = \"D:/Data/cremi_patch64/cremi_00001.png\"\n",
    "# img1 = np.expand_dims(skio.imread(add1), 0)\n",
    "# img2 = np.expand_dims(skio.imread(add2), 0)\n",
    "# data = np.concatenate((img1, img2), axis=0)\n",
    "# et   = Edges_(adv_params, False)\n",
    "# pims = et.persimg_batch(img1)\n",
    "\n",
    "# FileIO.compute_pim_save(\n",
    "#     \"D:/Data/cremi_patch64\", \"D:/Data/cremi_patch64/pims\",\n",
    "#     \"png\", adv_params, 0.05, True, False)\n",
    "\n",
    "# FileIO.compute_pd_save(\n",
    "#     \"D:/Data/cremi_patch64\", \"D:/Data/cremi_patch64/test\",\n",
    "#     \"png\", adv_params, 1)\n",
    "\n",
    "\n",
    "# idx = 1\n",
    "# Viewer.show_img_pd_RD_(os.path.join(\"D:/Data/cremi_patch64\", f1[idx]), set1[idx], b1[idx])\n",
    "# Viewer.show_img_pd_RD_(os.path.join(\"D:/Data/cremi_patch64\", f1[idx]), fil_set1[idx], fil_b1[idx])\n",
    "\n",
    "# dist, G = Utility_general.wasserstein_2D_(pd_set[0], pd_set[1], 1.0)\n",
    "# Viewer.plot_dgm_([set1[idx], set2[mapping[idx]]])\n",
    "# Viewer.plot_2dset_match_(set1[idx], set2[mapping[idx]], G[idx])\n",
    "\n",
    "# Viewer.imshow_(pims[0,:])\n",
    "# print(np.amax(data_arr))\n",
    "# print(np.amin(data_arr))\n",
    "\n",
    "# et = Edges_(adv_params, False)\n",
    "# img = np.expand_dims(skio.imread('D:/Data/cremi_patch64/cremi_00319.png'), 0)\n",
    "# pd = np.squeeze(np.asarray(et.pd_batch(img)))\n",
    "# FileIO.write_matrix_binary('D:/Data/cremi_patch64/pds/00.dat', pd)\n",
    "# mat = FileIO.read_matrix_binary('D:/Data/cremi_patch64/pds/00.dat')"
   ]
  }
 ],
 "metadata": {
  "kernelspec": {
   "display_name": "Python 3",
   "language": "python",
   "name": "python3"
  },
  "language_info": {
   "codemirror_mode": {
    "name": "ipython",
    "version": 3
   },
   "file_extension": ".py",
   "mimetype": "text/x-python",
   "name": "python",
   "nbconvert_exporter": "python",
   "pygments_lexer": "ipython3",
   "version": "3.7.2"
  }
 },
 "nbformat": 4,
 "nbformat_minor": 2
}
